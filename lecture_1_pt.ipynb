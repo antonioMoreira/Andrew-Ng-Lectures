{
 "cells": [
  {
   "cell_type": "markdown",
   "metadata": {
    "tags": []
   },
   "source": [
    "# Aula 1\n",
    "---\n",
    "\n",
    "**Este notebook foi feito baseado nas [notas de aula](https://cs229.stanford.edu/notes2022fall/main_notes.pdf) do professor Andrew Ng.**\n",
    "\n",
    "---\n",
    "\n",
    "Neste notebook serão abordados os seguintes tópicos:  \n",
    "1. Como representar matematicamente e computacionalmente um conjunto de dados\n",
    "2. Diferença entre aprendizado supervisionado e não-supervisionado\n"
   ]
  },
  {
   "cell_type": "markdown",
   "metadata": {
    "tags": []
   },
   "source": [
    "# *Imports* e *dataset*\n",
    "---\n",
    "\n",
    "## Imports\n",
    "\n",
    "Todas as bibliotecas usadas neste notebook podem ser encontradas em:\n",
    "\n",
    "* [pandas](https://pandas.pydata.org/)\n",
    "* [numpy](https://numpy.org/)\n",
    "* [seaborn](https://seaborn.pydata.org/)"
   ]
  },
  {
   "cell_type": "code",
   "execution_count": 2,
   "metadata": {},
   "outputs": [],
   "source": [
    "import pandas as pd\n",
    "import numpy as np\n",
    "import seaborn as sns"
   ]
  },
  {
   "cell_type": "markdown",
   "metadata": {
    "tags": []
   },
   "source": [
    "## Dataset\n",
    "\n",
    "Nosso dataset é composto por 47 amostras de casas. Para cada casa temos:  \n",
    "1. Área (*float*): quantitativa contínua\n",
    "2. Número de Quartos(*int*): quantitativa discreta \n",
    "3. Preço (*float*): quantitativa contínua\n",
    "\n",
    "> O conjunto de dados utilizado neste notebook pode ser encontrado no seguinte [link](https://www.kaggle.com/kennethjohn/housingprice).  \n",
    "> No entanto, fiz algumas pequenas modificações para fins didáticos, o código para replicá-las encontra-se abaixo:\n",
    "\n",
    "```python\n",
    "np.random.seed(42)\n",
    "df[\"Area\"] = (df[\"Area\"] + np.random.normal(loc=10, scale=1, size=47)).round(1)\n",
    "df[\"Price\"] = (df[\"Price\"] + np.random.normal(loc=1000, scale=100, size=47)).round(2)\n",
    "```\n",
    "\n",
    "### Representação matemática\n",
    "\n",
    "Como vimos, a representação geral de um dataset é dada da seguinte forma: $\\{ (X^{(i)}, y^{(i)}) \\; \\forall \\, i \\in [1, N] \\}$\n",
    "\n",
    "No nosso caso, como temos 47 amostras, nosso $N = 47$, então: $\\{ (X^{(i)}, y^{(i)}) \\; \\forall \\, i \\in [1, 47] \\}$\n",
    "\n",
    "E o conjunto de features $X$:"
   ]
  },
  {
   "cell_type": "code",
   "execution_count": 58,
   "metadata": {
    "tags": []
   },
   "outputs": [
    {
     "data": {
      "text/html": [
       "<div>\n",
       "<style scoped>\n",
       "    .dataframe tbody tr th:only-of-type {\n",
       "        vertical-align: middle;\n",
       "    }\n",
       "\n",
       "    .dataframe tbody tr th {\n",
       "        vertical-align: top;\n",
       "    }\n",
       "\n",
       "    .dataframe thead th {\n",
       "        text-align: right;\n",
       "    }\n",
       "</style>\n",
       "<table border=\"1\" class=\"dataframe\">\n",
       "  <thead>\n",
       "    <tr style=\"text-align: right;\">\n",
       "      <th></th>\n",
       "      <th>Area</th>\n",
       "      <th>Bedrooms</th>\n",
       "      <th>Price</th>\n",
       "    </tr>\n",
       "  </thead>\n",
       "  <tbody>\n",
       "    <tr>\n",
       "      <th>0</th>\n",
       "      <td>2114.5</td>\n",
       "      <td>3</td>\n",
       "      <td>401005.71</td>\n",
       "    </tr>\n",
       "    <tr>\n",
       "      <th>1</th>\n",
       "      <td>1609.9</td>\n",
       "      <td>3</td>\n",
       "      <td>330934.36</td>\n",
       "    </tr>\n",
       "    <tr>\n",
       "      <th>2</th>\n",
       "      <td>2410.6</td>\n",
       "      <td>3</td>\n",
       "      <td>369823.70</td>\n",
       "    </tr>\n",
       "    <tr>\n",
       "      <th>3</th>\n",
       "      <td>1427.5</td>\n",
       "      <td>2</td>\n",
       "      <td>233032.41</td>\n",
       "    </tr>\n",
       "    <tr>\n",
       "      <th>4</th>\n",
       "      <td>3009.8</td>\n",
       "      <td>4</td>\n",
       "      <td>540861.49</td>\n",
       "    </tr>\n",
       "  </tbody>\n",
       "</table>\n",
       "</div>"
      ],
      "text/plain": [
       "     Area  Bedrooms      Price\n",
       "0  2114.5         3  401005.71\n",
       "1  1609.9         3  330934.36\n",
       "2  2410.6         3  369823.70\n",
       "3  1427.5         2  233032.41\n",
       "4  3009.8         4  540861.49"
      ]
     },
     "execution_count": 58,
     "metadata": {},
     "output_type": "execute_result"
    }
   ],
   "source": [
    "df = pd.read_csv(\"./datasets/oregon_houses_price_47_modified.csv\")\n",
    "df.head()"
   ]
  },
  {
   "cell_type": "code",
   "execution_count": null,
   "metadata": {},
   "outputs": [],
   "source": []
  }
 ],
 "metadata": {
  "kernelspec": {
   "display_name": "Python 3 (ipykernel)",
   "language": "python",
   "name": "python3"
  },
  "language_info": {
   "codemirror_mode": {
    "name": "ipython",
    "version": 3
   },
   "file_extension": ".py",
   "mimetype": "text/x-python",
   "name": "python",
   "nbconvert_exporter": "python",
   "pygments_lexer": "ipython3",
   "version": "3.9.15"
  },
  "latex_envs": {
   "LaTeX_envs_menu_present": true,
   "autoclose": false,
   "autocomplete": true,
   "bibliofile": "biblio.bib",
   "cite_by": "apalike",
   "current_citInitial": 1,
   "eqLabelWithNumbers": true,
   "eqNumInitial": 1,
   "hotkeys": {
    "equation": "Ctrl-E",
    "itemize": "Ctrl-I"
   },
   "labels_anchors": false,
   "latex_user_defs": false,
   "report_style_numbering": false,
   "user_envs_cfg": false
  },
  "toc": {
   "base_numbering": 1,
   "nav_menu": {},
   "number_sections": true,
   "sideBar": true,
   "skip_h1_title": false,
   "title_cell": "Table of Contents",
   "title_sidebar": "Contents",
   "toc_cell": false,
   "toc_position": {},
   "toc_section_display": true,
   "toc_window_display": false
  }
 },
 "nbformat": 4,
 "nbformat_minor": 4
}
